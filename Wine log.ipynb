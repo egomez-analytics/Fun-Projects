{
 "cells": [
  {
   "cell_type": "code",
   "execution_count": 22,
   "metadata": {},
   "outputs": [
    {
     "name": "stdout",
     "output_type": "stream",
     "text": [
      "        DOE        Brand         Name         S/D Color     Country  Year  \\\n",
      "0  11/11/19  Stella Rosa        Rosso  semi-sweet   red       Italy  1917   \n",
      "1  11/11/19      Roscato  Rosso Dolce       sweet   red       Italy    Na   \n",
      "2  11/11/19     Barefoot   Pinot Noir         dry   red  California    Na   \n",
      "\n",
      "   Price Repurchase  \n",
      "0     12          y  \n",
      "1     12          y  \n",
      "2     12          n  \n"
     ]
    }
   ],
   "source": [
    "import pandas as pd\n",
    "wine = {'DOE': ['11/11/19', '11/11/19', '11/11/19'],\n",
    "        'Brand': ['Stella Rosa', 'Roscato', 'Barefoot'],\n",
    "        'Name': ['Rosso', 'Rosso Dolce', 'Pinot Noir'],\n",
    "        'S/D': ['semi-sweet', 'sweet', 'dry'],\n",
    "        'Color': ['red', 'red', 'red'],\n",
    "        'Country': ['Italy', 'Italy', 'California'],\n",
    "        'Year': [1917, 'Na', 'Na'],\n",
    "        'Price': [12, 12, 12], \n",
    "        'Repurchase': ['y', 'y', 'n']\n",
    "        }\n",
    "wine_log_df = pd.DataFrame(wine, columns= ['DOE', 'Brand', 'Name', 'S/D', 'Color', 'Country', 'Year', 'Price', 'Repurchase'])\n",
    "print(wine_log_df)\n",
    "\n",
    "## to append a new wine, copy and paste\n",
    "\n",
    "new_row = {'DOE': 'doe_1', 'Brand': 'brand_1', 'Name': 'name_1', 'S/D': 's/d_1', 'Color': 'color_1', \n",
    "           'Country': 'country_1', 'Year': 'year_1', 'Price': 'price_1', 'Repurchase': 'repurchase_1'}\n",
    "\n",
    "wine_log_df_updated = wine_log_df.append(new_row, ignore_index=True)"
   ]
  }
 ],
 "metadata": {
  "kernelspec": {
   "display_name": "Python 3",
   "language": "python",
   "name": "python3"
  },
  "language_info": {
   "codemirror_mode": {
    "name": "ipython",
    "version": 3
   },
   "file_extension": ".py",
   "mimetype": "text/x-python",
   "name": "python",
   "nbconvert_exporter": "python",
   "pygments_lexer": "ipython3",
   "version": "3.7.3"
  },
  "toc": {
   "base_numbering": 1,
   "nav_menu": {},
   "number_sections": true,
   "sideBar": true,
   "skip_h1_title": false,
   "title_cell": "Table of Contents",
   "title_sidebar": "Contents",
   "toc_cell": false,
   "toc_position": {},
   "toc_section_display": true,
   "toc_window_display": false
  },
  "varInspector": {
   "cols": {
    "lenName": 16,
    "lenType": 16,
    "lenVar": 40
   },
   "kernels_config": {
    "python": {
     "delete_cmd_postfix": "",
     "delete_cmd_prefix": "del ",
     "library": "var_list.py",
     "varRefreshCmd": "print(var_dic_list())"
    },
    "r": {
     "delete_cmd_postfix": ") ",
     "delete_cmd_prefix": "rm(",
     "library": "var_list.r",
     "varRefreshCmd": "cat(var_dic_list()) "
    }
   },
   "types_to_exclude": [
    "module",
    "function",
    "builtin_function_or_method",
    "instance",
    "_Feature"
   ],
   "window_display": false
  }
 },
 "nbformat": 4,
 "nbformat_minor": 2
}
